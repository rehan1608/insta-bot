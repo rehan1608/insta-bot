{
 "cells": [
  {
   "cell_type": "code",
   "execution_count": 1,
   "id": "a469e189",
   "metadata": {},
   "outputs": [],
   "source": [
    "from selenium import webdriver\n",
    "from selenium.webdriver.common.keys import Keys\n",
    "from selenium.webdriver.common.action_chains import ActionChains\n",
    "import time\n",
    "from selenium.webdriver.common.by import By"
   ]
  },
  {
   "cell_type": "code",
   "execution_count": 2,
   "id": "42e5c6a4",
   "metadata": {},
   "outputs": [],
   "source": [
    "# Initialize the WebDriver\n",
    "driver = webdriver.Chrome()"
   ]
  },
  {
   "cell_type": "code",
   "execution_count": 3,
   "id": "62d5426f",
   "metadata": {},
   "outputs": [],
   "source": [
    "# Login to Instagram\n",
    "def login(username, password):\n",
    "    driver.get(\"https://www.instagram.com/\")\n",
    "    time.sleep(10)\n",
    "\n",
    "    # Locate the username and password fields using their 'name' attribute\n",
    "    username_field = driver.find_element(By.NAME, \"username\")\n",
    "    password_field = driver.find_element(By.NAME, \"password\")\n",
    "    login_button = driver.find_element(By.XPATH, '//button[@type=\"submit\"]')\n",
    "\n",
    "    # Enter your credentials and click login\n",
    "    username_field.send_keys(username)\n",
    "    password_field.send_keys(password)\n",
    "    login_button.click()\n",
    "    time.sleep(5)"
   ]
  },
  {
   "cell_type": "code",
   "execution_count": 4,
   "id": "4be71e8a",
   "metadata": {},
   "outputs": [],
   "source": [
    "# Example usage:\n",
    "username = \"Enter Your Username Here\"\n",
    "password = \"Enter Your password Here\""
   ]
  },
  {
   "cell_type": "code",
   "execution_count": 25,
   "id": "d9e223d9",
   "metadata": {},
   "outputs": [],
   "source": [
    "def search_and_print(term):\n",
    "    # Locate the \"Search\" button by its custom XPath expression\n",
    "    search_button = driver.find_element(By.XPATH, '//*[@id=\"mount_0_0_jt\"]/div/div/div[2]/div/div/div/div[1]/div[1]/div[1]/div/div/div/div/div[2]/div[2]/span')\n",
    "\n",
    "    # Click the \"Search\" button\n",
    "    search_button.click()\n",
    "\n",
    "    # Locate the search input by placeholder attribute\n",
    "    search_input = driver.find_element(By.XPATH, '//input[@placeholder=\"Search\"]')\n",
    "\n",
    "    # Clear any existing text and enter the search term\n",
    "    search_input.clear()\n",
    "    search_input.send_keys(term)\n",
    "\n",
    "    # Wait for the search results to load (you can adjust the wait time as needed)\n",
    "    time.sleep(2)\n",
    "\n",
    "    # Extract and print the list of Instagram handles (excluding hashtags) from the search results\n",
    "    search_results_handles = driver.find_elements(By.XPATH, '//div[@class=\"fuqBx\"]/a[contains(@href, \"/\")][not(contains(@href, \"/explore/tags/\")) and not(contains(@href, \"/explore/locations/\"))]')\n",
    "    for handle in search_results_handles:\n",
    "        link = handle.get_attribute('href')\n",
    "        print(link.split('/')[-2])\n"
   ]
  },
  {
   "cell_type": "code",
   "execution_count": 6,
   "id": "97ade462",
   "metadata": {},
   "outputs": [],
   "source": [
    "# Open a profile\n",
    "def open_profile(profile_name):\n",
    "    driver.get(f\"https://www.instagram.com/{profile_name}/\")\n",
    "    time.sleep(2)"
   ]
  },
  {
   "cell_type": "code",
   "execution_count": 29,
   "id": "d7bb5d10",
   "metadata": {},
   "outputs": [],
   "source": [
    "# Follow/Unfollow a profile\n",
    "def follow_unfollow(profile_name):\n",
    "    open_profile(profile_name)\n",
    "    time.sleep(5)\n",
    "    follow_button = driver.find_element(BY.CLASS_NAME, '_aacl')\n",
    "    \n",
    "    if \"Following\" in follow_button.text:\n",
    "        print(\"Already following.\")\n",
    "        unfollow_button = driver.find_element(BY.CLASS_NAME, '_aacl')\n",
    "        unfollow_button.click()\n",
    "        time.sleep(2)\n",
    "        confirm_unfollow_button = driver.find_element(BY.XPATH, '/html/body/div[5]/div[1]/div/div[2]/div/div/div/div/div[2]/div/div/div/div[8]')\n",
    "        confirm_unfollow_button.click()\n",
    "        \n",
    "        print(\"Unfollowed.\")\n",
    "    elif \"Follow\" in follow_button.text:\n",
    "        follow_button.click()\n",
    "        print(\"Followed.\")"
   ]
  },
  {
   "cell_type": "code",
   "execution_count": 8,
   "id": "448ff9e8",
   "metadata": {},
   "outputs": [],
   "source": [
    "def like_unlike_posts(profile_name, num_posts):\n",
    "    open_profile(profile_name)\n",
    "    posts = driver.find_element(BY.XPATH,'//div[@class=\"v1Nh3 kIKUG  _bz0w\"]')\n",
    "    \n",
    "    for post in posts:\n",
    "        post.click()\n",
    "        like_button = driver.find_element(BY.XPATH,'//span[@aria-label=\"Like\"]')\n",
    "        if \"Like\" in like_button.get_attribute(\"innerHTML\"):\n",
    "            like_button.click()\n",
    "            print(\"Liked.\")\n",
    "        else:\n",
    "            print(\"Already liked.\")\n",
    "        \n",
    "        # Close the post modal\n",
    "        close_button = driver.find_element(BY.XPATH,'//button[@aria-label=\"Close\"]')\n",
    "        close_button.click()\n",
    "        time.sleep(2)"
   ]
  },
  {
   "cell_type": "code",
   "execution_count": 36,
   "id": "a19690c0",
   "metadata": {},
   "outputs": [],
   "source": [
    "def extract_followers(profile_name, num_followers):\n",
    "    open_profile(profile_name)\n",
    "    time.sleep(5)\n",
    "    \n",
    "    # Locate the \"followers\" link by partial link text\n",
    "    followers_link = driver.find_element(By.XPATH, '//a[contains(@href, \"/followers/\")]')\n",
    "    followers_link.click()\n",
    "    time.sleep(2)\n",
    "    \n",
    "    # Scroll the followers list to load more\n",
    "    followers_list = driver.find_element(By.XPATH, '/html/body/div[5]/div[1]/div/div[2]/div/div/div/div/div[2]/div/div/div[2]')\n",
    "    for _ in range(num_followers // 5):\n",
    "        driver.execute_script(\"arguments[0].scrollTop = arguments[0].scrollHeight\", followers_list)\n",
    "        time.sleep(5)\n",
    "    \n",
    "    # Extract and print usernames\n",
    "    followers = driver.find_elements(By.XPATH, '//a[@class=\"FPmhX notranslate _0imsa \"]')\n",
    "    for follower in followers[:num_followers]:\n",
    "        print(follower.text)\n"
   ]
  },
  {
   "cell_type": "code",
   "execution_count": 56,
   "id": "b0b8f97a",
   "metadata": {},
   "outputs": [],
   "source": [
    "def check_story(username):\n",
    "    open_profile(username)\n",
    "    time.sleep(5)\n",
    "    \n",
    "    # Locate the story button\n",
    "    story_button = driver.find_element(By.XPATH, '//*[@id=\"mount_0_0_O0\"]/div/div/div[2]/div/div/div/div[1]/div[1]/div[2]/div[2]/section/main/div/header/div/div/span/img')\n",
    "    \n",
    "    if story_button:\n",
    "        # Check if the story button has the \"viewed\" class\n",
    "        story_viewed = \"viewed\" in story_button.get_attribute(\"class\")\n",
    "        \n",
    "        if story_viewed:\n",
    "            print(\"You have already seen the story.\")\n",
    "        else:\n",
    "            print(\"View the story if not yet seen.\")\n",
    "    else:\n",
    "        print(\"The user has no story.\")\n"
   ]
  },
  {
   "cell_type": "code",
   "execution_count": null,
   "id": "ae9be85f",
   "metadata": {},
   "outputs": [],
   "source": [
    "login(username, password)\n",
    "search_and_print(\"Enter the username you want to search\")\n",
    "open_profile(\"Enter the profile name you want to open\")\n",
    "follow_unfollow(\"Enter the username you want to follow or unfollow\")\n",
    "like_unlike_posts(\"Enter the username you want to like posts\", 30)\n",
    "extract_followers(\"Enter the username you want to check the followers\", 500)\n",
    "check_story(\"Enter the username you want to check the story\")"
   ]
  },
  {
   "cell_type": "code",
   "execution_count": 10,
   "id": "bb75cb4a",
   "metadata": {},
   "outputs": [],
   "source": [
    "driver.maximize_window()"
   ]
  },
  {
   "cell_type": "code",
   "execution_count": 58,
   "id": "038726be",
   "metadata": {},
   "outputs": [],
   "source": [
    "driver.quit()"
   ]
  },
  {
   "cell_type": "code",
   "execution_count": null,
   "id": "e584e452",
   "metadata": {},
   "outputs": [],
   "source": []
  }
 ],
 "metadata": {
  "kernelspec": {
   "display_name": "Python 3 (ipykernel)",
   "language": "python",
   "name": "python3"
  },
  "language_info": {
   "codemirror_mode": {
    "name": "ipython",
    "version": 3
   },
   "file_extension": ".py",
   "mimetype": "text/x-python",
   "name": "python",
   "nbconvert_exporter": "python",
   "pygments_lexer": "ipython3",
   "version": "3.10.9"
  }
 },
 "nbformat": 4,
 "nbformat_minor": 5
}
